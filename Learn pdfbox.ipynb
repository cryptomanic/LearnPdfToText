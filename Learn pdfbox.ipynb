{
 "cells": [
  {
   "cell_type": "code",
   "execution_count": 1,
   "metadata": {},
   "outputs": [],
   "source": [
    "import pdfbox\n",
    "import re"
   ]
  },
  {
   "cell_type": "code",
   "execution_count": 8,
   "metadata": {},
   "outputs": [],
   "source": [
    "def dotheWork(text):\n",
    "    text = re.sub('\\r\\n', '\\n', text)\n",
    "    text = re.sub(' +', ' ', text)\n",
    "    text = re.sub('\\u200b', ' ', text)\n",
    "    \n",
    "    colon = []\n",
    "    for i in range(len(text)):\n",
    "        if text[i] == ':':\n",
    "            colon.append(i)\n",
    "            \n",
    "    indices = []\n",
    "    for j in colon:\n",
    "        k = j-1\n",
    "        while k >= 0 and text[k] != '\\n':\n",
    "            k -= 1\n",
    "        k += 1\n",
    "        indices.append(k)\n",
    "    indices.append(len(text))\n",
    "    \n",
    "    out = {}\n",
    "    for i in range(len(indices)-1):\n",
    "        u = indices[i]\n",
    "        v = indices[i+1]\n",
    "        key, val = text[u:v].split(':')\n",
    "        out[re.sub('[\\n ]+', ' ', key).strip()] = re.sub('[\\n ]+', ' ', val).strip()\n",
    "    return out"
   ]
  },
  {
   "cell_type": "code",
   "execution_count": 10,
   "metadata": {},
   "outputs": [],
   "source": [
    "p = pdfbox.PDFBox()\n",
    "current = dotheWork(p.extract_text('Current.pdf'))\n",
    "golden = dotheWork(p.extract_text('Golden.pdf'))"
   ]
  },
  {
   "cell_type": "code",
   "execution_count": 11,
   "metadata": {},
   "outputs": [
    {
     "data": {
      "text/plain": [
       "{'Data Science': 'Data science is a multi-disciplinary field that uses scientific methods, processes, algorithms and systems to extract knowledge and insights from structured and unstructured data.',\n",
       " 'AI': 'In computer science, artificial intelligence, sometimes called machine intelligence, is intelligence demonstrated by machines, in contrast to the natural intelligence displayed by humans and animals.',\n",
       " 'ML': 'Machine learning is the scientific study of algorithms and statistical models that computer systems use to effectively perform a specific task without using explicit instructions, relying on patterns and inference instead.',\n",
       " 'NLP': 'Natural language processing is a subfield of computer science, information engineering, and artificial intelligence concerned with the interactions between computers and human languages, in particular how to program computers to process and analyze large amounts of natural language data.'}"
      ]
     },
     "execution_count": 11,
     "metadata": {},
     "output_type": "execute_result"
    }
   ],
   "source": [
    "current"
   ]
  },
  {
   "cell_type": "code",
   "execution_count": 12,
   "metadata": {},
   "outputs": [
    {
     "data": {
      "text/plain": [
       "{'Data Science': 'Data science is a multi-disciplinary field that uses scientific methods, processes, algorithms and systems to extract knowledge and insights from structured and unstructured data.',\n",
       " 'AI': 'In computer science, artificial intelligence, sometimes called machine intelligence, is intelligence demonstrated by machines, in contrast to the natural intelligence displayed by humans and animals.',\n",
       " 'NLP': 'Natural language processing is a subfield of computer science, information engineering, and artificial intelligence concerned with the interactions between computers and human languages, in particular how to program computers to process and analyze large amounts of natural language data.'}"
      ]
     },
     "execution_count": 12,
     "metadata": {},
     "output_type": "execute_result"
    }
   ],
   "source": [
    "golden"
   ]
  }
 ],
 "metadata": {
  "kernelspec": {
   "display_name": "Python 3",
   "language": "python",
   "name": "python3"
  },
  "language_info": {
   "codemirror_mode": {
    "name": "ipython",
    "version": 3
   },
   "file_extension": ".py",
   "mimetype": "text/x-python",
   "name": "python",
   "nbconvert_exporter": "python",
   "pygments_lexer": "ipython3",
   "version": "3.6.5"
  }
 },
 "nbformat": 4,
 "nbformat_minor": 2
}
